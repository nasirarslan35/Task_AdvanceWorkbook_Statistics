{
 "cells": [
  {
   "cell_type": "code",
   "execution_count": 6,
   "metadata": {},
   "outputs": [
    {
     "data": {
      "text/plain": [
       "(716.9333333333333, 7.314899840152366, 16.918977604620448, 0.6043699252026407)"
      ]
     },
     "execution_count": 6,
     "metadata": {},
     "output_type": "execute_result"
    }
   ],
   "source": [
    "import numpy as np\n",
    "from scipy.stats import chi2\n",
    "\n",
    "# Given data\n",
    "sample_weights = np.array([964, 1034, 1001, 984, 967, 966, 989, 933, 993, 985])\n",
    "n = len(sample_weights)\n",
    "sigma_squared = 29.7 ** 2  # Variance of the old system\n",
    "\n",
    "# Sample variance\n",
    "sample_variance = np.var(sample_weights, ddof=1)\n",
    "\n",
    "# Chi-squared statistic\n",
    "chi_squared_stat = (n - 1) * sample_variance / sigma_squared\n",
    "\n",
    "# Critical value for Chi-squared test at α = 0.05 and df = n-1\n",
    "alpha = 0.05\n",
    "critical_value = chi2.ppf(1 - alpha, n - 1)\n",
    "p_value = chi2.sf(chi_squared_stat, df=n-1)\n",
    "\n",
    "(sample_variance, chi_squared_stat, critical_value, p_value)\n"
   ]
  },
  {
   "cell_type": "code",
   "execution_count": null,
   "metadata": {},
   "outputs": [],
   "source": []
  }
 ],
 "metadata": {
  "kernelspec": {
   "display_name": "base",
   "language": "python",
   "name": "python3"
  },
  "language_info": {
   "codemirror_mode": {
    "name": "ipython",
    "version": 3
   },
   "file_extension": ".py",
   "mimetype": "text/x-python",
   "name": "python",
   "nbconvert_exporter": "python",
   "pygments_lexer": "ipython3",
   "version": "3.11.7"
  }
 },
 "nbformat": 4,
 "nbformat_minor": 2
}
